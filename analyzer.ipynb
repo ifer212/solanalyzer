{
 "cells": [
  {
   "cell_type": "code",
   "execution_count": 6,
   "metadata": {},
   "outputs": [],
   "source": [
    "# Wallet to track\n",
    "wallet_address = '9xN3GQxipaW1hmM6224ozFCK3EfLuhKd1caC7gJiRBTF'"
   ]
  },
  {
   "cell_type": "code",
   "execution_count": 11,
   "metadata": {},
   "outputs": [
    {
     "ename": "ModuleNotFoundError",
     "evalue": "No module named 'solana.publickey'",
     "output_type": "error",
     "traceback": [
      "\u001b[0;31m---------------------------------------------------------------------------\u001b[0m",
      "\u001b[0;31mModuleNotFoundError\u001b[0m                       Traceback (most recent call last)",
      "Cell \u001b[0;32mIn[11], line 2\u001b[0m\n\u001b[1;32m      1\u001b[0m \u001b[38;5;28;01mfrom\u001b[39;00m \u001b[38;5;21;01msolana\u001b[39;00m\u001b[38;5;21;01m.\u001b[39;00m\u001b[38;5;21;01mrpc\u001b[39;00m\u001b[38;5;21;01m.\u001b[39;00m\u001b[38;5;21;01masync_api\u001b[39;00m \u001b[38;5;28;01mimport\u001b[39;00m AsyncClient\n\u001b[0;32m----> 2\u001b[0m \u001b[38;5;28;01mfrom\u001b[39;00m \u001b[38;5;21;01msolana\u001b[39;00m\u001b[38;5;21;01m.\u001b[39;00m\u001b[38;5;21;01mpublickey\u001b[39;00m \u001b[38;5;28;01mimport\u001b[39;00m PublicKey\n\u001b[1;32m      3\u001b[0m \u001b[38;5;28;01mimport\u001b[39;00m \u001b[38;5;21;01masyncio\u001b[39;00m\n\u001b[1;32m      5\u001b[0m \u001b[38;5;66;03m# Initialize Solana RPC client\u001b[39;00m\n",
      "\u001b[0;31mModuleNotFoundError\u001b[0m: No module named 'solana.publickey'"
     ]
    }
   ],
   "source": [
    "from solana.rpc.async_api import AsyncClient\n",
    "from solana.publickey import PublicKey\n",
    "import asyncio\n",
    "\n",
    "# Initialize Solana RPC client\n",
    "rpc_url = \"https://api.mainnet-beta.solana.com\"\n",
    "client = AsyncClient(rpc_url)\n",
    "\n",
    "# Wallet to track\n",
    "wallet_address = '9xN3GQxipaW1hmM6224ozFCK3EfLuhKd1caC7gJiRBTF'\n",
    "\n",
    "# Fetch transaction signatures for the wallet\n",
    "async def get_wallet_transactions(wallet):\n",
    "    # Convert wallet address to a PublicKey object\n",
    "    wallet_pubkey = PublicKey(wallet)\n",
    "    response = await client.get_signatures_for_address(wallet_pubkey, limit=100)\n",
    "    return response['result']\n",
    "\n",
    "# Main function\n",
    "async def main():\n",
    "    transactions = await get_wallet_transactions(wallet_address)\n",
    "    print(transactions)\n",
    "\n",
    "# Run the main function\n",
    "asyncio.run(main())\n"
   ]
  },
  {
   "cell_type": "code",
   "execution_count": 4,
   "metadata": {},
   "outputs": [
    {
     "data": {
      "text/plain": [
       "{'jsonrpc': '2.0',\n",
       " 'error': {'code': -32601, 'message': 'Method not found'},\n",
       " 'id': 1}"
      ]
     },
     "execution_count": 4,
     "metadata": {},
     "output_type": "execute_result"
    }
   ],
   "source": [
    "transactions"
   ]
  },
  {
   "cell_type": "code",
   "execution_count": null,
   "metadata": {},
   "outputs": [],
   "source": []
  }
 ],
 "metadata": {
  "kernelspec": {
   "display_name": "crpto",
   "language": "python",
   "name": "python3"
  },
  "language_info": {
   "codemirror_mode": {
    "name": "ipython",
    "version": 3
   },
   "file_extension": ".py",
   "mimetype": "text/x-python",
   "name": "python",
   "nbconvert_exporter": "python",
   "pygments_lexer": "ipython3",
   "version": "3.13.1"
  },
  "orig_nbformat": 4
 },
 "nbformat": 4,
 "nbformat_minor": 2
}
